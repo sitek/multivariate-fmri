{
 "cells": [
  {
   "cell_type": "code",
   "execution_count": 2,
   "metadata": {
    "collapsed": true
   },
   "outputs": [],
   "source": [
    "import numpy as np\n",
    "import nibabel as nib\n",
    "import os\n",
    "from nilearn import plotting\n",
    "from nilearn import image\n",
    "from nilearn import input_data\n",
    "import pandas as pd\n",
    "import matplotlib\n",
    "import matplotlib.pyplot as plt\n",
    "\n",
    "%matplotlib inline"
   ]
  },
  {
   "cell_type": "code",
   "execution_count": null,
   "metadata": {
    "collapsed": true
   },
   "outputs": [],
   "source": []
  },
  {
   "cell_type": "markdown",
   "metadata": {},
   "source": [
    "### import data"
   ]
  },
  {
   "cell_type": "markdown",
   "metadata": {},
   "source": [
    "*run info:*"
   ]
  },
  {
   "cell_type": "code",
   "execution_count": 93,
   "metadata": {
    "collapsed": true
   },
   "outputs": [],
   "source": [
    "#run_file = os.path.abspath('data/task01_run01.nii.gz')\n",
    "run_file = os.path.join('/Users/kevinsitek/om/om/scratch/Fri/ksitek/timeseries/',\n",
    "                        'voice978_task005_run001_emosent_dtype_mcf_mask_smooth_mask_gms_tempfilt_maths.nii.gz')\n",
    "run_data = nib.load(run_file)"
   ]
  },
  {
   "cell_type": "code",
   "execution_count": 94,
   "metadata": {
    "collapsed": false
   },
   "outputs": [
    {
     "name": "stdout",
     "output_type": "stream",
     "text": [
      "(108, 108, 65, 48)\n"
     ]
    }
   ],
   "source": [
    "print(image.load_img(run_data).shape)"
   ]
  },
  {
   "cell_type": "code",
   "execution_count": 95,
   "metadata": {
    "collapsed": false
   },
   "outputs": [
    {
     "name": "stdout",
     "output_type": "stream",
     "text": [
      "(108, 108, 65)\n"
     ]
    }
   ],
   "source": [
    "one_time = image.index_img(run_data, 0)\n",
    "print(one_time.shape)"
   ]
  },
  {
   "cell_type": "code",
   "execution_count": 103,
   "metadata": {
    "collapsed": false
   },
   "outputs": [
    {
     "data": {
      "text/plain": [
       "<nilearn.plotting.displays.OrthoSlicer at 0x128e5ac10>"
      ]
     },
     "execution_count": 103,
     "metadata": {},
     "output_type": "execute_result"
    },
    {
     "data": {
      "image/png": "[encoded data removed]",
      "text/plain": [
       "<matplotlib.figure.Figure at 0x125321050>"
      ]
     },
     "metadata": {},
     "output_type": "display_data"
    }
   ],
   "source": [
    "plotting.plot_stat_map(one_time,cut_coords=(-45,5,35),bg_img=None)"
   ]
  },
  {
   "cell_type": "markdown",
   "metadata": {},
   "source": [
    "*condition info:*"
   ]
  },
  {
   "cell_type": "code",
   "execution_count": 54,
   "metadata": {
    "collapsed": false
   },
   "outputs": [
    {
     "name": "stdout",
     "output_type": "stream",
     "text": [
      "(12, 3)\n"
     ]
    },
    {
     "data": {
      "text/plain": [
       "array([[  25.135,    1.1  ,    1.   ],\n",
       "       [  33.13 ,    1.1  ,    1.   ],\n",
       "       [  49.121,    1.1  ,    1.   ],\n",
       "       [  57.117,    1.1  ,    1.   ],\n",
       "       [  89.098,    1.1  ,    1.   ],\n",
       "       [ 101.091,    1.1  ,    1.   ],\n",
       "       [ 105.089,    1.1  ,    1.   ],\n",
       "       [ 125.078,    1.1  ,    1.   ],\n",
       "       [ 149.064,    1.1  ,    1.   ],\n",
       "       [ 169.053,    1.1  ,    1.   ],\n",
       "       [ 177.048,    1.1  ,    1.   ],\n",
       "       [ 181.046,    1.1  ,    1.   ]])"
      ]
     },
     "execution_count": 54,
     "metadata": {},
     "output_type": "execute_result"
    }
   ],
   "source": [
    "# read in individual condition times:\n",
    "cond001 = np.genfromtxt('data/onsets/run001/cond001.txt')\n",
    "cond002 = np.genfromtxt('data/onsets/run001/cond002.txt')\n",
    "cond003 = np.genfromtxt('data/onsets/run001/cond003.txt')"
   ]
  },
  {
   "cell_type": "code",
   "execution_count": 68,
   "metadata": {
    "collapsed": false
   },
   "outputs": [],
   "source": [
    "# combine individual conditions into one array:\n",
    "run001_conds = np.zeros((36,4))\n",
    "run001_conds[:12,:3] = cond001\n",
    "run001_conds[:12,3] = 1\n",
    "\n",
    "run001_conds[12:24,:3] = cond002\n",
    "run001_conds[12:24,3] = 2\n",
    "\n",
    "run001_conds[24:36,:3] = cond003\n",
    "run001_conds[24:36,3] = 3"
   ]
  },
  {
   "cell_type": "code",
   "execution_count": 75,
   "metadata": {
    "collapsed": false
   },
   "outputs": [],
   "source": [
    "# order the array:\n",
    "run001_conds_ordered = run001_conds[run001_conds[:,0].argsort()]"
   ]
  },
  {
   "cell_type": "code",
   "execution_count": 78,
   "metadata": {
    "collapsed": false
   },
   "outputs": [],
   "source": [
    "# add 'rest' conditions to the array\n",
    "# by fitting the ordered data into an array of zeros:\n",
    "run001_cond_inc_rest = np.zeros((48))\n",
    "run001_cond_inc_rest[((np.round(run001_conds_ordered[:,0])-1)/4).astype(int)] = run001_conds_ordered[:,3]"
   ]
  },
  {
   "cell_type": "code",
   "execution_count": 79,
   "metadata": {
    "collapsed": false
   },
   "outputs": [
    {
     "data": {
      "text/plain": [
       "array([ 2.,  2.,  3.,  0.,  3.,  3.,  1.,  2.,  1.,  2.,  2.,  2.,  1.,\n",
       "        0.,  1.,  2.,  0.,  3.,  2.,  0.,  2.,  0.,  1.,  3.,  0.,  1.,\n",
       "        1.,  3.,  3.,  0.,  3.,  1.,  0.,  3.,  3.,  0.,  2.,  1.,  0.,\n",
       "        2.,  3.,  2.,  1.,  0.,  1.,  1.,  3.,  0.])"
      ]
     },
     "execution_count": 79,
     "metadata": {},
     "output_type": "execute_result"
    }
   ],
   "source": [
    "# how does it look:\n",
    "run001_cond_inc_rest"
   ]
  },
  {
   "cell_type": "code",
   "execution_count": 89,
   "metadata": {
    "collapsed": false,
    "scrolled": true
   },
   "outputs": [
    {
     "data": {
      "text/plain": [
       "['happy',\n",
       " 'happy',\n",
       " 'sad',\n",
       " 'rest',\n",
       " 'sad',\n",
       " 'sad',\n",
       " 'neutral',\n",
       " 'happy',\n",
       " 'neutral',\n",
       " 'happy']"
      ]
     },
     "execution_count": 89,
     "metadata": {},
     "output_type": "execute_result"
    }
   ],
   "source": [
    "# now make a list of label words instead of number codes:\n",
    "labels_run001 = []\n",
    "for c in run001_cond_inc_rest:\n",
    "    if c==0:\n",
    "        labels_run001.append('rest')\n",
    "    elif c==1:\n",
    "        labels_run001.append('neutral')\n",
    "    elif c==2:\n",
    "        labels_run001.append('happy')\n",
    "    elif c==3:\n",
    "        labels_run001.append('sad')\n",
    "labels_run001[:10]"
   ]
  },
  {
   "cell_type": "code",
   "execution_count": 90,
   "metadata": {
    "collapsed": false
   },
   "outputs": [
    {
     "data": {
      "text/plain": [
       "['neutral',\n",
       " 'sad',\n",
       " 'rest',\n",
       " 'neutral',\n",
       " 'happy',\n",
       " 'happy',\n",
       " 'rest',\n",
       " 'sad',\n",
       " 'happy',\n",
       " 'happy']"
      ]
     },
     "execution_count": 90,
     "metadata": {},
     "output_type": "execute_result"
    }
   ],
   "source": [
    "# now do it all for run 2:\n",
    "cond001 = np.genfromtxt('data/onsets/run002/cond001.txt')\n",
    "cond002 = np.genfromtxt('data/onsets/run002/cond002.txt')\n",
    "cond003 = np.genfromtxt('data/onsets/run002/cond003.txt')\n",
    "\n",
    "run002_conds = np.zeros((36,4))\n",
    "run002_conds[:12,:3] = cond001\n",
    "run002_conds[:12,3] = 1\n",
    "\n",
    "run002_conds[12:24,:3] = cond002\n",
    "run002_conds[12:24,3] = 2\n",
    "\n",
    "run002_conds[24:36,:3] = cond003\n",
    "run002_conds[24:36,3] = 3\n",
    "\n",
    "run002_conds_ordered = run002_conds[run002_conds[:,0].argsort()]\n",
    "\n",
    "run002_cond_inc_rest = np.zeros((48))\n",
    "run002_cond_inc_rest[((np.round(run002_conds_ordered[:,0])-1)/4).astype(int)] = run002_conds_ordered[:,3]\n",
    "\n",
    "labels_run002 = []\n",
    "for c in run002_cond_inc_rest:\n",
    "    if c==0:\n",
    "        labels_run002.append('rest')\n",
    "    elif c==1:\n",
    "        labels_run002.append('neutral')\n",
    "    elif c==2:\n",
    "        labels_run002.append('happy')\n",
    "    elif c==3:\n",
    "        labels_run002.append('sad')\n",
    "labels_run002[:10]"
   ]
  },
  {
   "cell_type": "code",
   "execution_count": 92,
   "metadata": {
    "collapsed": false
   },
   "outputs": [],
   "source": [
    "np.savetxt('data/labels_run001.txt',run001_cond_inc_rest)\n",
    "np.savetxt('data/labels_run002.txt',run002_cond_inc_rest)"
   ]
  },
  {
   "cell_type": "code",
   "execution_count": null,
   "metadata": {
    "collapsed": true
   },
   "outputs": [],
   "source": []
  },
  {
   "cell_type": "markdown",
   "metadata": {},
   "source": [
    "** Realign the two run files to each other **"
   ]
  },
  {
   "cell_type": "code",
   "execution_count": 2,
   "metadata": {
    "collapsed": false
   },
   "outputs": [
    {
     "name": "stderr",
     "output_type": "stream",
     "text": [
      "/Users/kevinsitek/miniconda/lib/python2.7/site-packages/nipy/labs/glm/glm.py:9: FutureWarning: Module nipy.labs.utils.routines deprecated, will be removed\n",
      "  from ..utils import mahalanobis\n",
      "/Users/kevinsitek/miniconda/lib/python2.7/site-packages/nipype/interfaces/nipy/model.py:18: FutureWarning: Module nipy.labs.glm deprecated, will be removed. Please use nipy.modalities.fmri.glm instead.\n",
      "  import nipy.labs.glm.glm as GLM\n",
      "/Users/kevinsitek/miniconda/lib/python2.7/site-packages/nipy/io/files.py:145: FutureWarning: Default `strict` currently False; this will change to True in a future version of nipy\n",
      "  ni_img = nipy2nifti(img, data_dtype = io_dtype)\n"
     ]
    }
   ],
   "source": [
    "'''\n",
    "from nipype.interfaces.nipy import SpaceTimeRealigner\n",
    "#Run spatial realignment only\n",
    "realigner = SpaceTimeRealigner()\n",
    "realigner.inputs.in_file = ['/Users/kevinsitek/om/om/scratch/Fri/ksitek/timeseries/voice978_task005_run001_emosent_dtype_mcf_mask_smooth_mask_gms_tempfilt_maths.nii.gz',\n",
    "                           '/Users/kevinsitek/om/om/scratch/Fri/ksitek/timeseries/voice978_task005_run002_emosent_dtype_mcf_mask_smooth_mask_gms_tempfilt_maths.nii.gz']\n",
    "res = realigner.run() \n",
    "'''"
   ]
  },
  {
   "cell_type": "code",
   "execution_count": 4,
   "metadata": {
    "collapsed": false,
    "scrolled": true
   },
   "outputs": [],
   "source": [
    "run1_data = nib.load('data/corr_voice978_task005_run001.nii.gz')\n",
    "run2_data = nib.load('data/corr_voice978_task005_run002.nii.gz')\n",
    "one_time1 = image.index_img(run1_data, 0)\n",
    "one_time2 = image.index_img(run2_data, 0)"
   ]
  },
  {
   "cell_type": "code",
   "execution_count": 10,
   "metadata": {
    "collapsed": false
   },
   "outputs": [
    {
     "data": {
      "text/plain": [
       "(108, 108, 65, 48)"
      ]
     },
     "execution_count": 10,
     "metadata": {},
     "output_type": "execute_result"
    }
   ],
   "source": [
    "run1_data.shape"
   ]
  },
  {
   "cell_type": "code",
   "execution_count": 11,
   "metadata": {
    "collapsed": false
   },
   "outputs": [
    {
     "data": {
      "text/plain": [
       "(108, 108, 65, 48)"
      ]
     },
     "execution_count": 11,
     "metadata": {},
     "output_type": "execute_result"
    }
   ],
   "source": [
    "run2_data.shape"
   ]
  },
  {
   "cell_type": "code",
   "execution_count": 24,
   "metadata": {
    "collapsed": false
   },
   "outputs": [
    {
     "name": "stdout",
     "output_type": "stream",
     "text": [
      "[  9.06159110e-48  -9.84371181e-45   2.22958911e-49  -1.23032235e-44\n",
      "  -3.93315112e-45   1.29573508e-48  -3.93224183e-44   4.94213521e-45\n",
      "   2.71603775e-44  -2.63165651e-47  -9.93758854e-45  -9.92566949e-45\n",
      "  -4.64268761e-45   4.98044866e-45  -4.95506662e-45  -9.83671189e-45\n",
      "  -4.69323420e-45   6.78436379e-47   1.97707565e-44   4.98130661e-45\n",
      "   4.95668058e-45  -1.98623415e-44   1.98603026e-44  -1.99025633e-44\n",
      "  -9.89675529e-45  -1.98546595e-44   9.90385356e-45  -3.92807034e-44\n",
      "  -2.44921472e-44  -9.82704255e-45  -9.06348769e-49   3.94101029e-44\n",
      "   4.95046723e-45  -1.98438213e-44   1.97672030e-44   2.97310546e-44\n",
      "  -9.74919064e-45  -2.48645574e-44  -9.93517666e-45  -9.76280751e-45\n",
      "   2.95474647e-44  -3.57914904e-48   7.00973384e-51   9.91470217e-45\n",
      "  -1.76388283e-47  -9.93849239e-45  -7.16389717e-45  -2.16350087e-47]\n",
      "[ -1.97581322e-44  -3.92039440e-44   3.93167666e-44  -1.98051682e-44\n",
      "  -5.93155824e-44  -3.91834142e-44   1.96401154e-44  -1.97440862e-44\n",
      "  -1.97163112e-44  -1.97666657e-44   1.96635958e-44  -3.96897735e-44\n",
      "  -8.27903607e-42   3.95071128e-44  -1.98945881e-44   2.04211890e-47\n",
      "   2.75079349e-46   3.96407743e-44   3.81305342e-60   3.91830267e-44\n",
      "   3.95963663e-44  -1.97366826e-44   5.45095594e-47  -7.80130888e-44\n",
      "  -1.97412557e-44  -5.94085870e-44  -7.89160337e-44  -1.97791340e-44\n",
      "  -1.95875759e-44   3.94384456e-44   8.88861864e-48  -5.89948679e-44\n",
      "   3.90192325e-44  -1.96804782e-44  -9.65147814e-47   3.94315871e-44\n",
      "  -1.97131754e-44  -2.79986433e-47   7.90534777e-44   3.94263392e-44\n",
      "   3.93339866e-44   1.95077370e-44   1.97614328e-44   1.36817605e-46\n",
      "   4.02387051e-48  -5.92467336e-44  -1.96761272e-44   1.97303188e-44]\n"
     ]
    }
   ],
   "source": [
    "x1 = run1_data.get_data()\n",
    "x2 = run2_data.get_data()\n",
    "print x1[0,0][0]\n",
    "print x2[0,0][0]\n"
   ]
  },
  {
   "cell_type": "code",
   "execution_count": 7,
   "metadata": {
    "collapsed": false
   },
   "outputs": [
    {
     "data": {
      "text/plain": [
       "<nilearn.plotting.displays.OrthoSlicer at 0x11647f190>"
      ]
     },
     "execution_count": 7,
     "metadata": {},
     "output_type": "execute_result"
    },
    {
     "data": {
      "image/png": "[encoded data removed]",
      "text/plain": [
       "<matplotlib.figure.Figure at 0x10506b050>"
      ]
     },
     "metadata": {},
     "output_type": "display_data"
    }
   ],
   "source": [
    "plotting.plot_stat_map(one_time1,cut_coords=(-45,5,35),bg_img=None)"
   ]
  },
  {
   "cell_type": "code",
   "execution_count": 6,
   "metadata": {
    "collapsed": false
   },
   "outputs": [
    {
     "data": {
      "text/plain": [
       "<nilearn.plotting.displays.OrthoSlicer at 0x10506b950>"
      ]
     },
     "execution_count": 6,
     "metadata": {},
     "output_type": "execute_result"
    },
    {
     "data": {
      "image/png": "[encoded data removed]",
      "text/plain": [
       "<matplotlib.figure.Figure at 0x111c27790>"
      ]
     },
     "metadata": {},
     "output_type": "display_data"
    }
   ],
   "source": [
    "plotting.plot_stat_map(one_time2,cut_coords=(-45,5,35),bg_img=None)"
   ]
  },
  {
   "cell_type": "code",
   "execution_count": null,
   "metadata": {
    "collapsed": true
   },
   "outputs": [],
   "source": []
  },
  {
   "cell_type": "markdown",
   "metadata": {},
   "source": [
    "** Run classifier **"
   ]
  },
  {
   "cell_type": "markdown",
   "metadata": {},
   "source": [
    "From Yoel's classif_cond.py"
   ]
  },
  {
   "cell_type": "code",
   "execution_count": 10,
   "metadata": {
    "collapsed": false
   },
   "outputs": [],
   "source": [
    "import numpy as np\n",
    "from nilearn import masking\n",
    "from nilearn import image\n",
    "from nilearn import input_data\n",
    "from sklearn import linear_model\n",
    "from sklearn.pipeline import Pipeline\n",
    "from sklearn.preprocessing import StandardScaler\n",
    "from nilearn.decoding import SpaceNetClassifier\n",
    "\n",
    "# data\n",
    "Xtrain = run1_data\n",
    "Xtest = run2_data\n",
    "ytrain = 'data/labels_run001.txt'\n",
    "ytest = 'data/labels_run002.txt'"
   ]
  },
  {
   "cell_type": "code",
   "execution_count": 6,
   "metadata": {
    "collapsed": false,
    "scrolled": true
   },
   "outputs": [
    {
     "name": "stderr",
     "output_type": "stream",
     "text": [
      "................................................................................................................................................................................................................................................................"
     ]
    },
    {
     "name": "stdout",
     "output_type": "stream",
     "text": [
      "Time Elapsed: 2051.39 seconds, 34 minutes.\n",
      "% Correct attempt one: 0.333333333333\n"
     ]
    },
    {
     "name": "stderr",
     "output_type": "stream",
     "text": [
      "[Parallel(n_jobs=1)]: Done  32 out of  32 | elapsed: 34.1min finished\n"
     ]
    }
   ],
   "source": [
    "# attempt one, using approach straight from nilearn documentation\n",
    "# first going to create an array to index the time points of the\n",
    "# incoming data\n",
    "idx_all_conditions = np.tile(True, 48)\n",
    "X_train = image.index_img(Xtrain, idx_all_conditions)\n",
    "X_test = image.index_img(Xtest, idx_all_conditions)\n",
    "y_train1 = np.genfromtxt(ytrain, dtype=float)\n",
    "y_test1 = np.genfromtxt(ytest, dtype=float)\n",
    "\n",
    "# this creates the classifier\n",
    "decoder = SpaceNetClassifier()\n",
    "# this trains the classifier\n",
    "decoder.fit(X_train, y_train1)\n",
    "# get the prediction\n",
    "prediction = decoder.predict(X_test)\n",
    "# compute accuray\n",
    "print(\"% Correct attempt one: {}\".format((prediction == y_test1).mean()))\n"
   ]
  },
  {
   "cell_type": "code",
   "execution_count": null,
   "metadata": {
    "collapsed": true
   },
   "outputs": [],
   "source": [
    "# attempt two, same approach but hopefully making it an easier\n",
    "# classification problem, first index everything for the conditions\n",
    "idx_1_0_ytrain = np.logical_or(y_train1 == 0, y_train1 == 1)\n",
    "idx_1_0_ytest = np.logical_or(y_test1 == 0, y_test1 == 1)\n",
    "X_train = image.index_img(Xtrain, idx_1_0_ytrain)\n",
    "X_test = image.index_img(Xtest, idx_1_0_ytest)\n",
    "y_train2 = y_train[idx_1_0_ytrain]\n",
    "y_test2 = y_test[idx_1_0_ytest]\n",
    "\n",
    "# apply a new classifier\n",
    "decoder.fit(X_train, y_train2)\n",
    "prediction = decoder.predict(X_test)\n",
    "print(\"% Correct attempt two: {}\".format((prediction == y_test2).mean()))\n",
    "\n",
    "\n"
   ]
  },
  {
   "cell_type": "code",
   "execution_count": 14,
   "metadata": {
    "collapsed": false
   },
   "outputs": [
    {
     "name": "stdout",
     "output_type": "stream",
     "text": [
      "% Correct attempt three: 0.5\n"
     ]
    }
   ],
   "source": [
    "# attempt 3, sklearn and niftimasker, whole brain\n",
    "masker = input_data.NiftiMasker(smoothing_fwhm = None,\n",
    "    standardize = False, detrend = False, low_pass = None,\n",
    "    high_pass = None, t_r = None)\n",
    "\n",
    "idx_1_0_ytrain = np.logical_or(y_train1 == 0, y_train1 == 1)\n",
    "idx_1_0_ytest = np.logical_or(y_test1 == 0, y_test1 == 1)\n",
    "X_train = masker.fit_transform(Xtrain)[idx_1_0_ytrain, :]\n",
    "X_test = masker.transform(Xtest)[idx_1_0_ytest, :]\n",
    "y_train2 = y_train1[idx_1_0_ytrain]\n",
    "y_test2 = y_test1[idx_1_0_ytest]\n",
    "# we're using ytrain1 and ytest1\n",
    "\n",
    "clf = Pipeline([('scale', StandardScaler()),\n",
    "                ('lg', linear_model.LogisticRegression(\n",
    "                            penalty = 'l1',\n",
    "                            solver = 'liblinear'))])\n",
    "\n",
    "clf.fit(X_train, y_train2)\n",
    "prediction = clf.predict(X_test)\n",
    "print(\"% Correct attempt three: {}\".format((prediction == y_test2).mean()))"
   ]
  },
  {
   "cell_type": "code",
   "execution_count": 15,
   "metadata": {
    "collapsed": false
   },
   "outputs": [
    {
     "data": {
      "text/plain": [
       "(array([ 2.,  2.,  3.,  0.,  3.,  3.,  1.,  2.,  1.,  2.,  2.,  2.,  1.,\n",
       "         0.,  1.,  2.,  0.,  3.,  2.,  0.,  2.,  0.,  1.,  3.,  0.,  1.,\n",
       "         1.,  3.,  3.,  0.,  3.,  1.,  0.,  3.,  3.,  0.,  2.,  1.,  0.,\n",
       "         2.,  3.,  2.,  1.,  0.,  1.,  1.,  3.,  0.]),\n",
       " array([ 1.,  3.,  0.,  1.,  2.,  2.,  0.,  3.,  2.,  2.,  3.,  2.,  1.,\n",
       "         3.,  0.,  3.,  3.,  3.,  0.,  3.,  1.,  0.,  1.,  2.,  0.,  2.,\n",
       "         2.,  0.,  1.,  3.,  0.,  3.,  3.,  2.,  1.,  0.,  2.,  3.,  1.,\n",
       "         0.,  1.,  2.,  1.,  0.,  2.,  1.,  1.,  0.]))"
      ]
     },
     "execution_count": 15,
     "metadata": {},
     "output_type": "execute_result"
    }
   ],
   "source": [
    "y_train1, y_test1"
   ]
  },
  {
   "cell_type": "code",
   "execution_count": null,
   "metadata": {
    "collapsed": true
   },
   "outputs": [],
   "source": []
  }
 ],
 "metadata": {
  "kernelspec": {
   "display_name": "Python 2",
   "language": "python",
   "name": "python2"
  },
  "language_info": {
   "codemirror_mode": {
    "name": "ipython",
    "version": 2
   },
   "file_extension": ".py",
   "mimetype": "text/x-python",
   "name": "python",
   "nbconvert_exporter": "python",
   "pygments_lexer": "ipython2",
   "version": "2.7.11"
  }
 },
 "nbformat": 4,
 "nbformat_minor": 0
}
