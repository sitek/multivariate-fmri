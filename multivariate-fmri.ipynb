{
 "cells": [
  {
   "cell_type": "code",
   "execution_count": 42,
   "metadata": {
    "collapsed": true
   },
   "outputs": [],
   "source": [
    "import numpy as np\n",
    "import nibabel as nib\n",
    "import os\n",
    "from nilearn import plotting\n",
    "from nilearn import image\n",
    "from nilearn import input_data\n",
    "import pandas as pd\n",
    "import matplotlib\n",
    "import matplotlib.pyplot as plt\n",
    "\n",
    "%matplotlib inline"
   ]
  },
  {
   "cell_type": "code",
   "execution_count": null,
   "metadata": {
    "collapsed": true
   },
   "outputs": [],
   "source": []
  },
  {
   "cell_type": "markdown",
   "metadata": {},
   "source": [
    "### import data"
   ]
  },
  {
   "cell_type": "markdown",
   "metadata": {},
   "source": [
    "*run info:*"
   ]
  },
  {
   "cell_type": "code",
   "execution_count": 84,
   "metadata": {
    "collapsed": true
   },
   "outputs": [],
   "source": [
    "#run_file = os.path.abspath('data/task01_run01.nii.gz')\n",
    "run_file = os.path.join('/Users/kevinsitek/om/om/scratch/Fri/ksitek/timeseries/',\n",
    "                        'voice996_task005_run001_emosent_dtype_mcf_mask_smooth_mask_gms_tempfilt_maths.nii.gz')\n",
    "run_data = nib.load(run_file)"
   ]
  },
  {
   "cell_type": "code",
   "execution_count": 85,
   "metadata": {
    "collapsed": false
   },
   "outputs": [
    {
     "name": "stdout",
     "output_type": "stream",
     "text": [
      "(108, 108, 65, 42)\n"
     ]
    }
   ],
   "source": [
    "print(image.load_img(run_data).shape)"
   ]
  },
  {
   "cell_type": "code",
   "execution_count": 86,
   "metadata": {
    "collapsed": false
   },
   "outputs": [
    {
     "name": "stdout",
     "output_type": "stream",
     "text": [
      "(108, 108, 65)\n"
     ]
    }
   ],
   "source": [
    "one_time = image.index_img(run_data, 0)\n",
    "print(one_time.shape)"
   ]
  },
  {
   "cell_type": "code",
   "execution_count": 87,
   "metadata": {
    "collapsed": false
   },
   "outputs": [
    {
     "data": {
      "text/plain": [
       "<nilearn.plotting.displays.OrthoSlicer at 0x11e63d4d0>"
      ]
     },
     "execution_count": 87,
     "metadata": {},
     "output_type": "execute_result"
    },
    {
     "data": {
      "image/png": "[encoded data removed]",
      "text/plain": [
       "<matplotlib.figure.Figure at 0x11019f290>"
      ]
     },
     "metadata": {},
     "output_type": "display_data"
    }
   ],
   "source": [
    "plotting.plot_stat_map(one_time,cut_coords=(45,25,50),bg_img=None)"
   ]
  },
  {
   "cell_type": "markdown",
   "metadata": {},
   "source": [
    "*condition info:*"
   ]
  },
  {
   "cell_type": "code",
   "execution_count": 54,
   "metadata": {
    "collapsed": false
   },
   "outputs": [
    {
     "name": "stdout",
     "output_type": "stream",
     "text": [
      "(12, 3)\n"
     ]
    },
    {
     "data": {
      "text/plain": [
       "array([[  25.135,    1.1  ,    1.   ],\n",
       "       [  33.13 ,    1.1  ,    1.   ],\n",
       "       [  49.121,    1.1  ,    1.   ],\n",
       "       [  57.117,    1.1  ,    1.   ],\n",
       "       [  89.098,    1.1  ,    1.   ],\n",
       "       [ 101.091,    1.1  ,    1.   ],\n",
       "       [ 105.089,    1.1  ,    1.   ],\n",
       "       [ 125.078,    1.1  ,    1.   ],\n",
       "       [ 149.064,    1.1  ,    1.   ],\n",
       "       [ 169.053,    1.1  ,    1.   ],\n",
       "       [ 177.048,    1.1  ,    1.   ],\n",
       "       [ 181.046,    1.1  ,    1.   ]])"
      ]
     },
     "execution_count": 54,
     "metadata": {},
     "output_type": "execute_result"
    }
   ],
   "source": [
    "# read in individual condition times:\n",
    "cond001 = np.genfromtxt('data/onsets/run001/cond001.txt')\n",
    "cond002 = np.genfromtxt('data/onsets/run001/cond002.txt')\n",
    "cond003 = np.genfromtxt('data/onsets/run001/cond003.txt')"
   ]
  },
  {
   "cell_type": "code",
   "execution_count": 68,
   "metadata": {
    "collapsed": false
   },
   "outputs": [],
   "source": [
    "# combine individual conditions into one array:\n",
    "run001_conds = np.zeros((36,4))\n",
    "run001_conds[:12,:3] = cond001\n",
    "run001_conds[:12,3] = 1\n",
    "\n",
    "run001_conds[12:24,:3] = cond002\n",
    "run001_conds[12:24,3] = 2\n",
    "\n",
    "run001_conds[24:36,:3] = cond003\n",
    "run001_conds[24:36,3] = 3"
   ]
  },
  {
   "cell_type": "code",
   "execution_count": 75,
   "metadata": {
    "collapsed": false
   },
   "outputs": [],
   "source": [
    "# order the array:\n",
    "run001_conds_ordered = run001_conds[run001_conds[:,0].argsort()]"
   ]
  },
  {
   "cell_type": "code",
   "execution_count": 78,
   "metadata": {
    "collapsed": false
   },
   "outputs": [],
   "source": [
    "# add 'rest' conditions to the array\n",
    "# by fitting the ordered data into an array of zeros:\n",
    "run001_cond_inc_rest = np.zeros((48))\n",
    "run001_cond_inc_rest[((np.round(run001_conds_ordered[:,0])-1)/4).astype(int)] = run001_conds_ordered[:,3]"
   ]
  },
  {
   "cell_type": "code",
   "execution_count": 79,
   "metadata": {
    "collapsed": false
   },
   "outputs": [
    {
     "data": {
      "text/plain": [
       "array([ 2.,  2.,  3.,  0.,  3.,  3.,  1.,  2.,  1.,  2.,  2.,  2.,  1.,\n",
       "        0.,  1.,  2.,  0.,  3.,  2.,  0.,  2.,  0.,  1.,  3.,  0.,  1.,\n",
       "        1.,  3.,  3.,  0.,  3.,  1.,  0.,  3.,  3.,  0.,  2.,  1.,  0.,\n",
       "        2.,  3.,  2.,  1.,  0.,  1.,  1.,  3.,  0.])"
      ]
     },
     "execution_count": 79,
     "metadata": {},
     "output_type": "execute_result"
    }
   ],
   "source": [
    "# how does it look:\n",
    "run001_cond_inc_rest"
   ]
  },
  {
   "cell_type": "code",
   "execution_count": 89,
   "metadata": {
    "collapsed": false,
    "scrolled": true
   },
   "outputs": [
    {
     "data": {
      "text/plain": [
       "['happy',\n",
       " 'happy',\n",
       " 'sad',\n",
       " 'rest',\n",
       " 'sad',\n",
       " 'sad',\n",
       " 'neutral',\n",
       " 'happy',\n",
       " 'neutral',\n",
       " 'happy']"
      ]
     },
     "execution_count": 89,
     "metadata": {},
     "output_type": "execute_result"
    }
   ],
   "source": [
    "# now make a list of label words instead of number codes:\n",
    "labels_run001 = []\n",
    "for c in run001_cond_inc_rest:\n",
    "    if c==0:\n",
    "        labels_run001.append('rest')\n",
    "    elif c==1:\n",
    "        labels_run001.append('neutral')\n",
    "    elif c==2:\n",
    "        labels_run001.append('happy')\n",
    "    elif c==3:\n",
    "        labels_run001.append('sad')\n",
    "labels_run001[:10]"
   ]
  },
  {
   "cell_type": "code",
   "execution_count": 90,
   "metadata": {
    "collapsed": false
   },
   "outputs": [
    {
     "data": {
      "text/plain": [
       "['neutral',\n",
       " 'sad',\n",
       " 'rest',\n",
       " 'neutral',\n",
       " 'happy',\n",
       " 'happy',\n",
       " 'rest',\n",
       " 'sad',\n",
       " 'happy',\n",
       " 'happy']"
      ]
     },
     "execution_count": 90,
     "metadata": {},
     "output_type": "execute_result"
    }
   ],
   "source": [
    "# now do it all for run 2:\n",
    "cond001 = np.genfromtxt('data/onsets/run002/cond001.txt')\n",
    "cond002 = np.genfromtxt('data/onsets/run002/cond002.txt')\n",
    "cond003 = np.genfromtxt('data/onsets/run002/cond003.txt')\n",
    "\n",
    "run002_conds = np.zeros((36,4))\n",
    "run002_conds[:12,:3] = cond001\n",
    "run002_conds[:12,3] = 1\n",
    "\n",
    "run002_conds[12:24,:3] = cond002\n",
    "run002_conds[12:24,3] = 2\n",
    "\n",
    "run002_conds[24:36,:3] = cond003\n",
    "run002_conds[24:36,3] = 3\n",
    "\n",
    "run002_conds_ordered = run002_conds[run002_conds[:,0].argsort()]\n",
    "\n",
    "run002_cond_inc_rest = np.zeros((48))\n",
    "run002_cond_inc_rest[((np.round(run002_conds_ordered[:,0])-1)/4).astype(int)] = run002_conds_ordered[:,3]\n",
    "\n",
    "labels_run002 = []\n",
    "for c in run002_cond_inc_rest:\n",
    "    if c==0:\n",
    "        labels_run002.append('rest')\n",
    "    elif c==1:\n",
    "        labels_run002.append('neutral')\n",
    "    elif c==2:\n",
    "        labels_run002.append('happy')\n",
    "    elif c==3:\n",
    "        labels_run002.append('sad')\n",
    "labels_run002[:10]"
   ]
  },
  {
   "cell_type": "code",
   "execution_count": 92,
   "metadata": {
    "collapsed": false
   },
   "outputs": [],
   "source": [
    "np.savetxt('data/labels_run001.txt',run001_cond_inc_rest)\n",
    "np.savetxt('data/labels_run002.txt',run002_cond_inc_rest)"
   ]
  },
  {
   "cell_type": "markdown",
   "metadata": {},
   "source": [
    "** set up model **"
   ]
  },
  {
   "cell_type": "code",
   "execution_count": null,
   "metadata": {
    "collapsed": true
   },
   "outputs": [],
   "source": []
  },
  {
   "cell_type": "code",
   "execution_count": 47,
   "metadata": {
    "collapsed": false
   },
   "outputs": [],
   "source": [
    "from nilearn.datasets import fetch_haxby\n",
    "data_files = fetch_haxby()\n",
    "\n",
    "# Load Target labels\n",
    "import numpy as np\n",
    "labels = np.recfromcsv(data_files.session_target[0], delimiter=\" \")\n",
    "\n",
    "\n",
    "# Restrict to face and house conditions\n",
    "target = labels['labels']\n",
    "condition_mask = np.logical_or(target == b\"face\", target == b\"house\")\n",
    "\n",
    "# Split data into train and test samples, using the chunks\n",
    "condition_mask_train = np.logical_and(condition_mask, labels['chunks'] <= 6)\n",
    "condition_mask_test = np.logical_and(condition_mask, labels['chunks'] > 6)\n",
    "\n",
    "# Apply this sample mask to X (fMRI data) and y (behavioral labels)\n",
    "# Because the data is in one single large 4D image, we need to use\n",
    "# index_img to do the split easily\n",
    "from nilearn.image import index_img\n",
    "func_filenames = data_files.func[0]\n",
    "X_train = index_img(func_filenames, condition_mask_train)\n",
    "X_test = index_img(func_filenames, condition_mask_test)\n",
    "y_train = target[condition_mask_train]\n",
    "y_test = target[condition_mask_test]\n",
    "\n",
    "# Compute the mean epi to be used for the background of the plotting\n",
    "from nilearn.image import mean_img\n",
    "background_img = mean_img(func_filenames)"
   ]
  },
  {
   "cell_type": "code",
   "execution_count": 49,
   "metadata": {
    "collapsed": false
   },
   "outputs": [
    {
     "data": {
      "text/plain": [
       "rec.array([('rest', 0), ('rest', 0), ('rest', 0), ..., ('rest', 11), ('rest', 11),\n",
       " ('rest', 11)], \n",
       "          dtype=[('labels', 'S12'), ('chunks', '<i8')])"
      ]
     },
     "execution_count": 49,
     "metadata": {},
     "output_type": "execute_result"
    }
   ],
   "source": [
    "labels"
   ]
  },
  {
   "cell_type": "code",
   "execution_count": 55,
   "metadata": {
    "collapsed": false
   },
   "outputs": [
    {
     "data": {
      "text/plain": [
       "array(['face', 'face', 'face', 'face', 'face', 'face', 'face', 'face',\n",
       "       'face', 'house', 'house', 'house', 'house', 'house', 'house',\n",
       "       'house', 'house', 'house', 'face', 'face', 'face', 'face', 'face',\n",
       "       'face', 'face', 'face', 'face', 'house', 'house', 'house', 'house',\n",
       "       'house', 'house', 'house', 'house', 'house', 'face', 'face', 'face',\n",
       "       'face', 'face', 'face', 'face', 'face', 'face', 'house', 'house',\n",
       "       'house', 'house', 'house', 'house', 'house', 'house', 'house',\n",
       "       'house', 'house', 'house', 'house', 'house', 'house', 'house',\n",
       "       'house', 'house', 'face', 'face', 'face', 'face', 'face', 'face',\n",
       "       'face', 'face', 'face', 'house', 'house', 'house', 'house', 'house',\n",
       "       'house', 'house', 'house', 'house', 'face', 'face', 'face', 'face',\n",
       "       'face', 'face', 'face', 'face', 'face', 'house', 'house', 'house',\n",
       "       'house', 'house', 'house', 'house', 'house', 'house', 'face',\n",
       "       'face', 'face', 'face', 'face', 'face', 'face', 'face', 'face',\n",
       "       'face', 'face', 'face', 'face', 'face', 'face', 'face', 'face',\n",
       "       'face', 'house', 'house', 'house', 'house', 'house', 'house',\n",
       "       'house', 'house', 'house'], \n",
       "      dtype='|S12')"
      ]
     },
     "execution_count": 55,
     "metadata": {},
     "output_type": "execute_result"
    }
   ],
   "source": [
    "y_train"
   ]
  },
  {
   "cell_type": "code",
   "execution_count": 48,
   "metadata": {
    "collapsed": false
   },
   "outputs": [
    {
     "name": "stderr",
     "output_type": "stream",
     "text": [
      "/Users/kevinsitek/miniconda/lib/python2.7/site-packages/sklearn/externals/joblib/hashing.py:197: DeprecationWarning: Changing the shape of non-C contiguous array by\n",
      "descriptor assignment is deprecated. To maintain\n",
      "the Fortran contiguity of a multidimensional Fortran\n",
      "array, use 'a.T.view(...).T' instead\n",
      "  obj_bytes_view = obj.view(self.np.uint8)\n",
      "/Users/kevinsitek/miniconda/lib/python2.7/site-packages/sklearn/externals/joblib/hashing.py:197: DeprecationWarning: Changing the shape of non-C contiguous array by\n",
      "descriptor assignment is deprecated. To maintain\n",
      "the Fortran contiguity of a multidimensional Fortran\n",
      "array, use 'a.T.view(...).T' instead\n",
      "  obj_bytes_view = obj.view(self.np.uint8)\n",
      ".........................................................................[Parallel(n_jobs=1)]: Done   8 out of   8 | elapsed:  4.8min finished\n",
      "/Users/kevinsitek/miniconda/lib/python2.7/site-packages/sklearn/externals/joblib/hashing.py:197: DeprecationWarning: Changing the shape of non-C contiguous array by\n",
      "descriptor assignment is deprecated. To maintain\n",
      "the Fortran contiguity of a multidimensional Fortran\n",
      "array, use 'a.T.view(...).T' instead\n",
      "  obj_bytes_view = obj.view(self.np.uint8)\n",
      "/Users/kevinsitek/miniconda/lib/python2.7/site-packages/sklearn/externals/joblib/hashing.py:197: DeprecationWarning: Changing the shape of non-C contiguous array by\n",
      "descriptor assignment is deprecated. To maintain\n",
      "the Fortran contiguity of a multidimensional Fortran\n",
      "array, use 'a.T.view(...).T' instead\n",
      "  obj_bytes_view = obj.view(self.np.uint8)\n"
     ]
    },
    {
     "name": "stdout",
     "output_type": "stream",
     "text": [
      "Time Elapsed: 285.267 seconds, 4 minutes.\n",
      "TV-l1 classification accuracy : 95.5556%\n"
     ]
    },
    {
     "data": {
      "image/png": "[encoded data removed]",
      "text/plain": [
       "<matplotlib.figure.Figure at 0x11e668050>"
      ]
     },
     "metadata": {},
     "output_type": "display_data"
    }
   ],
   "source": [
    "decoder = SpaceNetClassifier(memory=\"nilearn_cache\", penalty='tv-l1')\n",
    "decoder.fit(X_train, y_train)\n",
    "y_pred = decoder.predict(X_test)\n",
    "accuracy = (y_pred == y_test).mean() * 100.\n",
    "print(\"TV-l1 classification accuracy : %g%%\" % accuracy)\n",
    "\n",
    "# Visualization\n",
    "coef_img = decoder.coef_img_\n",
    "plot_stat_map(coef_img, background_img,\n",
    "              title=\"tv-l1: accuracy %g%%\" % accuracy,\n",
    "              cut_coords=(-52, -5), display_mode=\"yz\")\n",
    "\n",
    "# Save the coefficients to a nifti file\n",
    "coef_img.to_filename('haxby_tv-l1_weights.nii')\n",
    "show()"
   ]
  },
  {
   "cell_type": "code",
   "execution_count": null,
   "metadata": {
    "collapsed": true
   },
   "outputs": [],
   "source": []
  }
 ],
 "metadata": {
  "kernelspec": {
   "display_name": "Python 2",
   "language": "python",
   "name": "python2"
  },
  "language_info": {
   "codemirror_mode": {
    "name": "ipython",
    "version": 2
   },
   "file_extension": ".py",
   "mimetype": "text/x-python",
   "name": "python",
   "nbconvert_exporter": "python",
   "pygments_lexer": "ipython2",
   "version": "2.7.11"
  }
 },
 "nbformat": 4,
 "nbformat_minor": 0
}
